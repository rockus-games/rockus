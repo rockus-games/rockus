{
 "cells": [
  {
   "cell_type": "markdown",
   "metadata": {
    "id": "jcDKXybN6f4t"
   },
   "source": [
    "# **Занятие 5. Арифметика чисел**\n"
   ]
  },
  {
   "cell_type": "markdown",
   "metadata": {
    "id": "O78m4ogM6kss"
   },
   "source": [
    "# 1. Целые числа (`int`)\n",
    "\n",
    "Команда `input()` считывает строку текста. Однако во многих случаях нам нужно работать именно с числами. Чтобы в *Python* создать переменную целого типа данных, нужно опустить кавычки при объявлении переменной. Рассмотрим следующий код:\n"
   ]
  },
  {
   "cell_type": "code",
   "execution_count": 1,
   "metadata": {
    "colab": {
     "base_uri": "https://localhost:8080/"
    },
    "executionInfo": {
     "elapsed": 6,
     "status": "ok",
     "timestamp": 1692451002628,
     "user": {
      "displayName": "Vladimir Timokhin",
      "userId": "11887263454514708330"
     },
     "user_tz": -180
    },
    "id": "tS-768tn6m6G",
    "outputId": "d7984de4-37c6-498c-fb13-494b94a9fc66"
   },
   "outputs": [
    {
     "name": "stdout",
     "output_type": "stream",
     "text": [
      "13\n",
      "0\n",
      "-10\n"
     ]
    }
   ],
   "source": [
    "num = 13\n",
    "print(num)\n",
    "\n",
    "num = 0\n",
    "print(num)\n",
    "\n",
    "num = -10\n",
    "print(num)"
   ]
  },
  {
   "cell_type": "markdown",
   "metadata": {
    "id": "z5dcG-TE6ogp"
   },
   "source": [
    "Начиная с *Python 3.6* появилась возможность разделять порядки символом нижнего подчеркивания в длинных числах, тем самым мы можем улучшить читаемость этих чисел в исходном коде."
   ]
  },
  {
   "cell_type": "code",
   "execution_count": 2,
   "metadata": {
    "id": "ZiD0ODZA6qbP"
   },
   "outputs": [
    {
     "name": "stdout",
     "output_type": "stream",
     "text": [
      "100000000\n"
     ]
    }
   ],
   "source": [
    "num = 100_000_000\n",
    "print(num)"
   ]
  },
  {
   "cell_type": "markdown",
   "metadata": {
    "id": "wU5nSicz6sH-"
   },
   "source": [
    "Стоит отметить, что *Python* поддерживает длинную арифметику при работе с целыми числами, то есть поддерживаются числа неограниченной длины.\n",
    "\n",
    "\n",
    "#Встроенная функция `type`\n",
    "Функция type доступна в глобальном пространстве имен и она позволяет в рантайме, в процессе работы программы посмотреть на тип объекта\n"
   ]
  },
  {
   "cell_type": "code",
   "execution_count": 3,
   "metadata": {
    "id": "5hEwvg3y6vPF"
   },
   "outputs": [
    {
     "name": "stdout",
     "output_type": "stream",
     "text": [
      "<class 'int'>\n"
     ]
    }
   ],
   "source": [
    "num = 13\n",
    "print(type(num))"
   ]
  },
  {
   "cell_type": "markdown",
   "metadata": {
    "id": "bl4PMEuZ6w62"
   },
   "source": [
    "# 2. Вещественные числа (`float`)\n",
    "\n",
    "*Python* умеет работать с вещественными числами, то есть с числами с плавающей точкой, это тип `float`. Точка используется для того чтобы разделить целую и дробную часть вещественного числа, то же самое для `0`, и то же самое для отрицательного вещественного числа.\n"
   ]
  },
  {
   "cell_type": "code",
   "execution_count": 4,
   "metadata": {
    "id": "kSVY1vWC6zCF"
   },
   "outputs": [
    {
     "name": "stdout",
     "output_type": "stream",
     "text": [
      "13.4\n",
      "0.0\n",
      "-10.2\n"
     ]
    }
   ],
   "source": [
    "num = 13.4\n",
    "print(num)\n",
    "\n",
    "num = 0.0\n",
    "print(num)\n",
    "\n",
    "num = -10.2\n",
    "print(num)"
   ]
  },
  {
   "cell_type": "markdown",
   "metadata": {
    "id": "h2ZN_93G6193"
   },
   "source": [
    "По аналогии с типом `int` мы можем использовать символ нижнего подчёркивания, для того, чтобы разделять порядки в длинном вещественном числе"
   ]
  },
  {
   "cell_type": "code",
   "execution_count": 5,
   "metadata": {
    "id": "HeykmnqD630V"
   },
   "outputs": [
    {
     "name": "stdout",
     "output_type": "stream",
     "text": [
      "100000.000001\n"
     ]
    }
   ],
   "source": [
    "num = 100_000.000_001\n",
    "print(num)"
   ]
  },
  {
   "cell_type": "markdown",
   "metadata": {
    "id": "21Aeci9k66YL"
   },
   "source": [
    "Также *Python* поддерживает экспоненциальную нотацию записи вещественного числа"
   ]
  },
  {
   "cell_type": "code",
   "execution_count": 6,
   "metadata": {
    "colab": {
     "base_uri": "https://localhost:8080/"
    },
    "executionInfo": {
     "elapsed": 281,
     "status": "ok",
     "timestamp": 1692451092415,
     "user": {
      "displayName": "Vladimir Timokhin",
      "userId": "11887263454514708330"
     },
     "user_tz": -180
    },
    "id": "YVykkWaP68E4",
    "outputId": "1b2a12e1-8ab4-4241-dc12-1f07ec929b42"
   },
   "outputs": [
    {
     "name": "stdout",
     "output_type": "stream",
     "text": [
      "150.0\n"
     ]
    }
   ],
   "source": [
    "# 1.5 умножить на 10 в степени 2\n",
    "num = 1.5e2\n",
    "print(num)"
   ]
  },
  {
   "cell_type": "markdown",
   "metadata": {
    "id": "M2pwV7tZ69gN"
   },
   "source": [
    "# Конвертация типов\n",
    "\n",
    "Переменная `num`, связана с вещественным объектом со значением `150.2`, имеет тип `float`. В любой момент мы можем воспользоваться встроенным классом `int`, чтобы переменную, которая связана с типом `float`, перевести в объект типа `integer` и затем преобразовать `integer` обратно к вещественному типу, используя класс `float`, тем самым в процессе работы программы мы можем из одного типа конвертировать переменные в другой тип.\n"
   ]
  },
  {
   "cell_type": "code",
   "execution_count": 7,
   "metadata": {
    "colab": {
     "base_uri": "https://localhost:8080/"
    },
    "executionInfo": {
     "elapsed": 271,
     "status": "ok",
     "timestamp": 1692451151455,
     "user": {
      "displayName": "Vladimir Timokhin",
      "userId": "11887263454514708330"
     },
     "user_tz": -180
    },
    "id": "B1_7rmIh6_Ro",
    "outputId": "0f462b39-09bf-4260-a6ad-6b075fd6ff01"
   },
   "outputs": [
    {
     "name": "stdout",
     "output_type": "stream",
     "text": [
      "<class 'float'>\n",
      "150 <class 'int'>\n",
      "150.0 <class 'float'>\n"
     ]
    }
   ],
   "source": [
    "num = 150.2\n",
    "print(type(num))\n",
    "\n",
    "num = int(num)\n",
    "print(num, type(num))\n",
    "\n",
    "num = float(num)\n",
    "print(num, type(num))"
   ]
  },
  {
   "cell_type": "markdown",
   "metadata": {
    "id": "bnH7XTPx7BBH"
   },
   "source": [
    "Обратите внимание, что в процессе конвертаций, мы потеряли дробную часть вещественного числа.\n",
    "\n",
    "\n",
    "# 3. Комплексные числа (*complex*)\n",
    "\n",
    "Python умеет работать с комплексными числами, это тип `complex`, для того, чтобы определить комплексное число нужно для мнимой части использовать символ `j`,\n"
   ]
  },
  {
   "cell_type": "code",
   "execution_count": 8,
   "metadata": {
    "colab": {
     "base_uri": "https://localhost:8080/"
    },
    "executionInfo": {
     "elapsed": 241,
     "status": "ok",
     "timestamp": 1692451196266,
     "user": {
      "displayName": "Vladimir Timokhin",
      "userId": "11887263454514708330"
     },
     "user_tz": -180
    },
    "id": "_RwhroED7D6A",
    "outputId": "a8f14950-22aa-44f2-dd81-c89125a97707"
   },
   "outputs": [
    {
     "name": "stdout",
     "output_type": "stream",
     "text": [
      "<class 'complex'>\n",
      "14.0\n",
      "1.0\n"
     ]
    }
   ],
   "source": [
    "num = 14 + 1j\n",
    "\n",
    "print(type(num))\n",
    "print(num.real)\n",
    "print(num.imag)"
   ]
  },
  {
   "cell_type": "markdown",
   "metadata": {
    "id": "jzF4R9rA7FtO"
   },
   "source": [
    "Чтобы достучаться до действительной и мнимой части комплексного числа, мы можем воспользоваться атрибутами `real` и `imag`.\n",
    "\n",
    "В языке Python есть еще два модуля, которые позволяют работать с числами, эти модули очень полезны, мы не будем рассматривать их подробно, но знать о них нужно. В первую очередь, это модуль `decimal`, который позволяет работать с вещественными числами с фиксированной точностью, а второй модуль - это модуль `fractions`, который позволяет работать с рациональными числами, проще говоря с дробями.\n",
    "\n",
    "\n",
    "#4. Основные операции с числами\n",
    "\n",
    "**Сложение:**\n",
    "\n",
    "Cумма двух целых чисел дает нам целое число, если мы складываем целое число и вещественное число, то результат у нас получается вещественный\n"
   ]
  },
  {
   "cell_type": "code",
   "execution_count": 9,
   "metadata": {
    "colab": {
     "base_uri": "https://localhost:8080/"
    },
    "executionInfo": {
     "elapsed": 249,
     "status": "ok",
     "timestamp": 1692451319140,
     "user": {
      "displayName": "Vladimir Timokhin",
      "userId": "11887263454514708330"
     },
     "user_tz": -180
    },
    "id": "QLpmAblO7H7a",
    "outputId": "2c8ca561-ec01-4b2e-e0ca-cead6d4f76c1"
   },
   "outputs": [
    {
     "data": {
      "text/plain": [
       "2"
      ]
     },
     "execution_count": 9,
     "metadata": {},
     "output_type": "execute_result"
    }
   ],
   "source": [
    "1 + 1"
   ]
  },
  {
   "cell_type": "code",
   "execution_count": 10,
   "metadata": {
    "colab": {
     "base_uri": "https://localhost:8080/"
    },
    "executionInfo": {
     "elapsed": 4,
     "status": "ok",
     "timestamp": 1692451320919,
     "user": {
      "displayName": "Vladimir Timokhin",
      "userId": "11887263454514708330"
     },
     "user_tz": -180
    },
    "id": "cmvYdJhZ9W2r",
    "outputId": "ea97836a-9ba9-4ae6-8a0f-c26bbf827a50"
   },
   "outputs": [
    {
     "data": {
      "text/plain": [
       "3.0"
      ]
     },
     "execution_count": 10,
     "metadata": {},
     "output_type": "execute_result"
    }
   ],
   "source": [
    "1 + 2.0"
   ]
  },
  {
   "cell_type": "markdown",
   "metadata": {
    "id": "AcpHVrzr7JcU"
   },
   "source": [
    "Вычитание:\n",
    "То же самое с вычитанием, если мы вычитаем из целого целое, получается целое число, если мы вычитаем из вещественного целое, то результат вещественный\n"
   ]
  },
  {
   "cell_type": "code",
   "execution_count": 11,
   "metadata": {
    "colab": {
     "base_uri": "https://localhost:8080/"
    },
    "executionInfo": {
     "elapsed": 4,
     "status": "ok",
     "timestamp": 1692451322704,
     "user": {
      "displayName": "Vladimir Timokhin",
      "userId": "11887263454514708330"
     },
     "user_tz": -180
    },
    "id": "tOBZ1wM47LEq",
    "outputId": "3a05f7c5-0b8e-44d6-fda0-f21f77f66294"
   },
   "outputs": [
    {
     "data": {
      "text/plain": [
       "9"
      ]
     },
     "execution_count": 11,
     "metadata": {},
     "output_type": "execute_result"
    }
   ],
   "source": [
    "10 - 1"
   ]
  },
  {
   "cell_type": "code",
   "execution_count": 12,
   "metadata": {
    "colab": {
     "base_uri": "https://localhost:8080/"
    },
    "executionInfo": {
     "elapsed": 268,
     "status": "ok",
     "timestamp": 1692451325280,
     "user": {
      "displayName": "Vladimir Timokhin",
      "userId": "11887263454514708330"
     },
     "user_tz": -180
    },
    "id": "DutA4vQY9ZwF",
    "outputId": "73ac18f0-3b02-4b58-a54a-938265917329"
   },
   "outputs": [
    {
     "data": {
      "text/plain": [
       "3.2"
      ]
     },
     "execution_count": 12,
     "metadata": {},
     "output_type": "execute_result"
    }
   ],
   "source": [
    "4.2 - 1"
   ]
  },
  {
   "cell_type": "markdown",
   "metadata": {
    "id": "7F7XaygR7NiV"
   },
   "source": [
    "**Деление:**\n",
    "\n",
    "Для того, чтобы разделить числа, мы можем воспользоваться символом прямого слэша, и обратите внимание, что результат деления всегда вещественный.\n"
   ]
  },
  {
   "cell_type": "code",
   "execution_count": null,
   "metadata": {
    "colab": {
     "base_uri": "https://localhost:8080/"
    },
    "executionInfo": {
     "elapsed": 273,
     "status": "ok",
     "timestamp": 1692451455028,
     "user": {
      "displayName": "Vladimir Timokhin",
      "userId": "11887263454514708330"
     },
     "user_tz": -180
    },
    "id": "LgevDXi17PnX",
    "outputId": "1a880b81-a2a9-4125-ffe6-6927bb0477c6"
   },
   "outputs": [
    {
     "data": {
      "text/plain": [
       "5.0"
      ]
     },
     "execution_count": 11,
     "metadata": {},
     "output_type": "execute_result"
    }
   ],
   "source": [
    "10 / 2"
   ]
  },
  {
   "cell_type": "markdown",
   "metadata": {
    "id": "E4HvXWQ57Riq"
   },
   "source": [
    "Делить на `0` нельзя:"
   ]
  },
  {
   "cell_type": "code",
   "execution_count": 1,
   "metadata": {
    "colab": {
     "base_uri": "https://localhost:8080/",
     "height": 175
    },
    "executionInfo": {
     "elapsed": 320,
     "status": "error",
     "timestamp": 1692451457403,
     "user": {
      "displayName": "Vladimir Timokhin",
      "userId": "11887263454514708330"
     },
     "user_tz": -180
    },
    "id": "o9jnVaVO7TPe",
    "outputId": "d2ce7847-4a4d-4f7f-a43d-4919169b7742"
   },
   "outputs": [
    {
     "ename": "ZeroDivisionError",
     "evalue": "division by zero",
     "output_type": "error",
     "traceback": [
      "\u001b[1;31m---------------------------------------------------------------------------\u001b[0m",
      "\u001b[1;31mZeroDivisionError\u001b[0m                         Traceback (most recent call last)",
      "\u001b[1;32mc:\\Users\\STATION\\YandexDisk\\School\\Projects\\МФТИ\\ipypnb\\PythonB-(1-5).ipynb Cell 27\u001b[0m line \u001b[0;36m1\n\u001b[1;32m----> <a href='vscode-notebook-cell:/c%3A/Users/STATION/YandexDisk/School/Projects/%D0%9C%D0%A4%D0%A2%D0%98/ipypnb/PythonB-%281-5%29.ipynb#X35sZmlsZQ%3D%3D?line=0'>1</a>\u001b[0m \u001b[39m2\u001b[39;49m \u001b[39m/\u001b[39;49m \u001b[39m0\u001b[39;49m\n",
      "\u001b[1;31mZeroDivisionError\u001b[0m: division by zero"
     ]
    }
   ],
   "source": [
    "2 / 0"
   ]
  },
  {
   "cell_type": "markdown",
   "metadata": {
    "id": "Jox79R5t7Ux-"
   },
   "source": [
    "Если мы попытаемся разделить на `0`, то мы получим исключение `ZeroDivisionError`. Позже мы научимся их обрабатывать.\n",
    "\n",
    "\n",
    "**Умножение:**\n",
    "\n",
    "Для того чтобы умножить числа, мы используем звездочку, для возведения в степень - две звездочки.\n"
   ]
  },
  {
   "cell_type": "code",
   "execution_count": 3,
   "metadata": {
    "colab": {
     "base_uri": "https://localhost:8080/"
    },
    "executionInfo": {
     "elapsed": 247,
     "status": "ok",
     "timestamp": 1692451503308,
     "user": {
      "displayName": "Vladimir Timokhin",
      "userId": "11887263454514708330"
     },
     "user_tz": -180
    },
    "id": "vMdZSsLY7aKE",
    "outputId": "bb9b57c4-e5e0-4784-e95b-57a894d9a974"
   },
   "outputs": [
    {
     "data": {
      "text/plain": [
       "20.8"
      ]
     },
     "execution_count": 3,
     "metadata": {},
     "output_type": "execute_result"
    }
   ],
   "source": [
    "4 * 5.2"
   ]
  },
  {
   "cell_type": "markdown",
   "metadata": {
    "id": "tTuaWDwE7a-O"
   },
   "source": [
    "**Возведение в степень:**"
   ]
  },
  {
   "cell_type": "code",
   "execution_count": 15,
   "metadata": {
    "colab": {
     "base_uri": "https://localhost:8080/"
    },
    "executionInfo": {
     "elapsed": 4,
     "status": "ok",
     "timestamp": 1692451504985,
     "user": {
      "displayName": "Vladimir Timokhin",
      "userId": "11887263454514708330"
     },
     "user_tz": -180
    },
    "id": "tWsvUc0S7dSU",
    "outputId": "d7b5fa1c-adad-43f4-81d1-f6ad14e3bf29"
   },
   "outputs": [
    {
     "data": {
      "text/plain": [
       "16"
      ]
     },
     "execution_count": 15,
     "metadata": {},
     "output_type": "execute_result"
    }
   ],
   "source": [
    "2**4"
   ]
  },
  {
   "cell_type": "markdown",
   "metadata": {
    "id": "NuyjjTHy7fFK"
   },
   "source": [
    "**Целочисленное деление:**"
   ]
  },
  {
   "cell_type": "code",
   "execution_count": 17,
   "metadata": {
    "colab": {
     "base_uri": "https://localhost:8080/"
    },
    "executionInfo": {
     "elapsed": 4,
     "status": "ok",
     "timestamp": 1692451508249,
     "user": {
      "displayName": "Vladimir Timokhin",
      "userId": "11887263454514708330"
     },
     "user_tz": -180
    },
    "id": "pnpWz7EB7giV",
    "outputId": "21617b8e-bf5e-4ec2-949b-cd466a493cfc"
   },
   "outputs": [
    {
     "data": {
      "text/plain": [
       "3"
      ]
     },
     "execution_count": 17,
     "metadata": {},
     "output_type": "execute_result"
    }
   ],
   "source": [
    "10 // 3"
   ]
  },
  {
   "cell_type": "markdown",
   "metadata": {
    "id": "sTD8TFeU7hqw"
   },
   "source": [
    "**Остаток от деления:**"
   ]
  },
  {
   "cell_type": "code",
   "execution_count": 16,
   "metadata": {
    "colab": {
     "base_uri": "https://localhost:8080/"
    },
    "executionInfo": {
     "elapsed": 253,
     "status": "ok",
     "timestamp": 1692451510836,
     "user": {
      "displayName": "Vladimir Timokhin",
      "userId": "11887263454514708330"
     },
     "user_tz": -180
    },
    "id": "I5tWYNgG7jD8",
    "outputId": "82728c3d-47e5-49fd-9748-3cafbff0df54"
   },
   "outputs": [
    {
     "data": {
      "text/plain": [
       "1"
      ]
     },
     "execution_count": 16,
     "metadata": {},
     "output_type": "execute_result"
    }
   ],
   "source": [
    "10 % 3"
   ]
  },
  {
   "cell_type": "markdown",
   "metadata": {
    "id": "Rpmk9oq57mn3"
   },
   "source": [
    "**Порядок операций в выражениях с числами:**"
   ]
  },
  {
   "cell_type": "code",
   "execution_count": 19,
   "metadata": {
    "colab": {
     "base_uri": "https://localhost:8080/"
    },
    "executionInfo": {
     "elapsed": 252,
     "status": "ok",
     "timestamp": 1692451513369,
     "user": {
      "displayName": "Vladimir Timokhin",
      "userId": "11887263454514708330"
     },
     "user_tz": -180
    },
    "id": "eBqwbyCT7p_F",
    "outputId": "7ff0a707-067b-4cbf-c3c3-88051ceab7ae"
   },
   "outputs": [
    {
     "name": "stdout",
     "output_type": "stream",
     "text": [
      "33\n",
      "60\n"
     ]
    }
   ],
   "source": [
    "print(10 * 3 + 3)\n",
    "print(10 * (3 + 3))"
   ]
  },
  {
   "cell_type": "markdown",
   "metadata": {
    "id": "PYIf-Q927r6V"
   },
   "source": [
    "**Побитовые операции:**\n",
    "\n",
    "Несмотря на то, что современные компьютеры дают возможность увидеть пользователю не только числа и строки, но и видео, 3D-объекты и даже более сложные визуализации, \"думает\" компьютер, по-прежнему в двоичной системе, где есть только `0` и `1` - \"нет заряда\" и \"есть заряд\". Современные компьютерные средства умеют представлять эти `0` и `1` в более наглядном виде для пользователя. \n",
    "Но иногда разработчику всё же нужно обращаться к `0` и `1`, то есть работать с двоичной системой исчисления, где любое целое число представляется теми самыми `0` и `1`.\n",
    "Например, число 4 в двоичной системе будет 100.\n",
    "Для отображения целых чисел в двоичной системе в *Python* используется функция `bin()`, которая создаёт соответствующую строку:"
   ]
  },
  {
   "cell_type": "code",
   "execution_count": 20,
   "metadata": {},
   "outputs": [
    {
     "name": "stdout",
     "output_type": "stream",
     "text": [
      "4 <class 'int'> \n",
      " 0b100 <class 'str'>\n"
     ]
    }
   ],
   "source": [
    "a = 4\n",
    "a_bin = bin(a)\n",
    "print(a, type(a), \"\\n\", a_bin, type(a_bin))"
   ]
  },
  {
   "cell_type": "markdown",
   "metadata": {},
   "source": [
    "Символы `0b` показывают, что далее идёт двоичная запись числа.\n",
    "Для изменения отдельных битов двоичных чисел используются побитовые операции. Рассмотрим на примерах, как они работают:"
   ]
  },
  {
   "cell_type": "code",
   "execution_count": 27,
   "metadata": {
    "colab": {
     "base_uri": "https://localhost:8080/"
    },
    "executionInfo": {
     "elapsed": 281,
     "status": "ok",
     "timestamp": 1692451515718,
     "user": {
      "displayName": "Vladimir Timokhin",
      "userId": "11887263454514708330"
     },
     "user_tz": -180
    },
    "id": "QhPBei-W7toA",
    "outputId": "c82f92ee-ef18-4119-9e8a-59ff138e8294"
   },
   "outputs": [
    {
     "name": "stdout",
     "output_type": "stream",
     "text": [
      "Двоичная запись:\n",
      "x = 0b1010\n",
      "y = 0b110\n",
      "Побитовое или: 14 0b1110\n",
      "Побитовое исключающее или: 12 0b1100\n",
      "Побитовое и: 2 0b10\n",
      "Битовый сдвиг влево: 80 0b1010000\n",
      "Битовый сдвиг вправо: 5 0b101\n",
      "Инверсия битов: -11 -0b1011\n"
     ]
    }
   ],
   "source": [
    "x = 10\n",
    "y = 6\n",
    "print(\"Двоичная запись:\\nx = {}\\ny = {}\".format(bin(x), bin(y)))\n",
    "\n",
    "print(\"Побитовое или:\", x | y, bin(x | y))\n",
    "print(\"Побитовое исключающее или:\", x ^ y, bin(x ^ y))\n",
    "print(\"Побитовое и:\", x & y, bin(x & y))\n",
    "print(\"Битовый сдвиг влево:\", x << 3, bin(x << 3))\n",
    "print(\"Битовый сдвиг вправо:\", x >> 1, bin(x >> 1))\n",
    "print(\"Инверсия битов:\", ~x, bin(~x))"
   ]
  },
  {
   "cell_type": "markdown",
   "metadata": {
    "id": "4VF8t9x_7xtI"
   },
   "source": [
    "# Задача:\n",
    "\n",
    "Найти расстояние между двумя точками в декартовых координатах. Для того, чтобы ее решить, нам нужно найти гипотенузу прямоугольного треугольника.\n"
   ]
  },
  {
   "cell_type": "code",
   "execution_count": 28,
   "metadata": {
    "id": "YqPoehYX70pk"
   },
   "outputs": [
    {
     "name": "stdout",
     "output_type": "stream",
     "text": [
      "5.0\n"
     ]
    }
   ],
   "source": [
    "x1, y1 = 0, 0\n",
    "x2 = 3\n",
    "y2 = 4\n",
    "\n",
    "distance = ((x2 - x1) ** 2 + (y2 - y1) ** 2) ** 0.5\n",
    "print(distance)"
   ]
  },
  {
   "cell_type": "markdown",
   "metadata": {
    "id": "L-K-__K_71N-"
   },
   "source": [
    "# Меняем местами значения 2-х переменных:\n",
    "\n",
    "*Python* позволяет поменять значения у 2 переменных без использования временной переменной\n"
   ]
  },
  {
   "cell_type": "code",
   "execution_count": 29,
   "metadata": {
    "colab": {
     "base_uri": "https://localhost:8080/"
    },
    "executionInfo": {
     "elapsed": 251,
     "status": "ok",
     "timestamp": 1692451588704,
     "user": {
      "displayName": "Vladimir Timokhin",
      "userId": "11887263454514708330"
     },
     "user_tz": -180
    },
    "id": "2WP2CTZt729b",
    "outputId": "d7c1bc46-38a2-4bc3-8781-45bebd316d37"
   },
   "outputs": [
    {
     "name": "stdout",
     "output_type": "stream",
     "text": [
      "100 200\n",
      "200 100\n"
     ]
    }
   ],
   "source": [
    "a = 100\n",
    "b = 200\n",
    "print(a, b)\n",
    "\n",
    "a, b = b, a\n",
    "print(a, b)"
   ]
  },
  {
   "cell_type": "markdown",
   "metadata": {
    "id": "rtAiCi-875BA"
   },
   "source": [
    "# Вместо x, y = 0, 0:\n",
    "\n",
    "Примитивные основные типы, не изменяемы, поэтому запись `x = y = 0` оправдана\n"
   ]
  },
  {
   "cell_type": "code",
   "execution_count": 30,
   "metadata": {
    "id": "em5iTBKN760s"
   },
   "outputs": [
    {
     "name": "stdout",
     "output_type": "stream",
     "text": [
      "1\n",
      "0\n"
     ]
    }
   ],
   "source": [
    "x = y = 0\n",
    "x += 1\n",
    "\n",
    "print(x)\n",
    "print(y)"
   ]
  },
  {
   "cell_type": "markdown",
   "metadata": {
    "id": "JT-lZlX678e8"
   },
   "source": [
    "Но нужно помнить об отличии изменяемых (*mutable*) и неизменяемых (*immutable*) типов:"
   ]
  },
  {
   "cell_type": "code",
   "execution_count": 31,
   "metadata": {
    "colab": {
     "base_uri": "https://localhost:8080/"
    },
    "executionInfo": {
     "elapsed": 237,
     "status": "ok",
     "timestamp": 1692451735371,
     "user": {
      "displayName": "Vladimir Timokhin",
      "userId": "11887263454514708330"
     },
     "user_tz": -180
    },
    "id": "X6RB7eRh7-MA",
    "outputId": "c1d2ebf0-b45f-4c9b-f797-92823fcdc6cf"
   },
   "outputs": [
    {
     "name": "stdout",
     "output_type": "stream",
     "text": [
      "[1, 2]\n",
      "[1, 2]\n"
     ]
    }
   ],
   "source": [
    "x = y = []\n",
    "x.append(1)\n",
    "x.append(2)\n",
    "\n",
    "print(x)\n",
    "print(y)"
   ]
  },
  {
   "cell_type": "markdown",
   "metadata": {
    "id": "LkzKtbmd8Cm6"
   },
   "source": [
    "Но если мы напишем `х = у = пустой список` , `пустой список` - это объект-контейнер, который позволяет хранить последовательность объектов в себе, этот объект уже изменяемый, поэтому, когда мы присваиваем `х = у = пустой список`, а затем в список х добавляем два элемента, то видим, что изменились значения обеих переменных.\n",
    "\n",
    "\n",
    "# 5. Утиная типизация\n",
    "\n",
    "В *Python* используется так называемая «утиная типизация». Происхождение данного термина идет от фразы:\n",
    "\n",
    "*«Если это выглядит как утка, плавает как утка и крякает как утка, то это, вероятно, и есть утка»*\n",
    "\n",
    "**Утиная типизация** – это концепция, характерная для языков программирования с динамической типизацией, согласно которой конкретный тип или класс объекта не важен, а важны лишь свойства и методы, которыми этот объект обладает.\n",
    "\n",
    "Другими словами, при работе с объектом его тип не проверяется, вместо этого проверяются свойства и методы этого объекта. Такой подход добавляет гибкости коду, позволяет полиморфно работать с объектами, которые никак не связаны друг с другом и могут быть объектами разных классов. Единственное условие, чтобы все эти объекты поддерживали необходимый набор свойств и методов.\n",
    "\n",
    "То есть, нет необходимости прописывать переменную, как переменную определённого типа. Пока её значение подходит к нужному типу, а операции, которые вы пытаетесь с ней проделать также подходящие, ошибки не будет.\n",
    "\n",
    "Утиная типизация \"*DuckTyping*\" настолько глубоко заложена и распространена в Python, что она действительно повсюду, как вода для рыбы: мы даже не думаем об этом. В *Python* очень часто проще предположить поведение объектов, вместо проверки их типов.\n"
   ]
  },
  {
   "cell_type": "code",
   "execution_count": null,
   "metadata": {},
   "outputs": [],
   "source": []
  }
 ],
 "metadata": {
  "colab": {
   "authorship_tag": "ABX9TyPDjiL/i9uqAn+nlx2IaZRV",
   "provenance": []
  },
  "kernelspec": {
   "display_name": "Python 3 (ipykernel)",
   "language": "python",
   "name": "python3"
  },
  "language_info": {
   "codemirror_mode": {
    "name": "ipython",
    "version": 3
   },
   "file_extension": ".py",
   "mimetype": "text/x-python",
   "name": "python",
   "nbconvert_exporter": "python",
   "pygments_lexer": "ipython3",
   "version": "3.10.11"
  }
 },
 "nbformat": 4,
 "nbformat_minor": 1
}
