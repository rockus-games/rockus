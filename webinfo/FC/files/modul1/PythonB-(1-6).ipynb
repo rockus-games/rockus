{
 "cells": [
  {
   "cell_type": "markdown",
   "metadata": {
    "id": "xcAFYq-w_4hW"
   },
   "source": [
    "# **Занятие 6. Обработка цифр числа**\n",
    "\n",
    "\n"
   ]
  },
  {
   "cell_type": "markdown",
   "metadata": {
    "id": "CFl5bZlD_9yM"
   },
   "source": [
    "С помощью операции нахождения остатка и целочисленного деления можно достаточно легко вычислить любую цифру числа.\n",
    "\n",
    "Давайте напишем программу получения цифр двухзначного числа:\n"
   ]
  },
  {
   "cell_type": "code",
   "execution_count": 1,
   "metadata": {
    "colab": {
     "base_uri": "https://localhost:8080/"
    },
    "executionInfo": {
     "elapsed": 5574,
     "status": "ok",
     "timestamp": 1692452237642,
     "user": {
      "displayName": "Vladimir Timokhin",
      "userId": "11887263454514708330"
     },
     "user_tz": -180
    },
    "id": "0y_25ObU__57",
    "outputId": "22b76e39-d362-4564-c06b-7be0818adbdb"
   },
   "outputs": [
    {
     "name": "stdout",
     "output_type": "stream",
     "text": [
      "Введите двухзначное число: 47\n",
      "7\n",
      "4\n"
     ]
    }
   ],
   "source": [
    "num = int(input('Введите двухзначное число: '))\n",
    "\n",
    "a = num % 10\n",
    "b = num // 10\n",
    "\n",
    "print(a)\n",
    "print(b)"
   ]
  },
  {
   "cell_type": "markdown",
   "metadata": {
    "id": "EB4jg_iTACEa"
   },
   "source": [
    "Программа сначала выводит последнюю цифру числа, а затем первую цифру.\n",
    "\n",
    "Последняя цифра числа определяется всегда как остаток от деления числа `10` (`%10`). Чтобы отделить последнюю цифру от числа, необходимо разделить его нацело на `10` (`// 10`).\n",
    "\n",
    "Давайте напишем программу получения цифр трехзначного числа:\n"
   ]
  },
  {
   "cell_type": "code",
   "execution_count": 3,
   "metadata": {
    "colab": {
     "base_uri": "https://localhost:8080/"
    },
    "executionInfo": {
     "elapsed": 6624,
     "status": "ok",
     "timestamp": 1692452265276,
     "user": {
      "displayName": "Vladimir Timokhin",
      "userId": "11887263454514708330"
     },
     "user_tz": -180
    },
    "id": "8i9jvDIPAD4K",
    "outputId": "84d878fe-c5ac-42e4-954c-251d6295d36e"
   },
   "outputs": [
    {
     "name": "stdout",
     "output_type": "stream",
     "text": [
      "Введите трехзначное число: 473\n",
      "3\n",
      "7\n",
      "4\n"
     ]
    }
   ],
   "source": [
    "num = int(input('Введите трехзначное число: '))\n",
    "\n",
    "a = num % 10\n",
    "b = (num % 100) // 10\n",
    "c = num // 100\n",
    "\n",
    "print(a)\n",
    "print(b)\n",
    "print(c)"
   ]
  },
  {
   "cell_type": "markdown",
   "metadata": {
    "id": "78dXOgFhAFzZ"
   },
   "source": [
    "Сначала программа вывела последнюю цифру числа, затем среднюю цифру, а затем первую цифру. Для изменения порядка достаточно изменить порядок вывода:"
   ]
  },
  {
   "cell_type": "code",
   "execution_count": 4,
   "metadata": {
    "colab": {
     "base_uri": "https://localhost:8080/"
    },
    "executionInfo": {
     "elapsed": 257,
     "status": "ok",
     "timestamp": 1692452270745,
     "user": {
      "displayName": "Vladimir Timokhin",
      "userId": "11887263454514708330"
     },
     "user_tz": -180
    },
    "id": "QzvDLQORAHTJ",
    "outputId": "9a450435-53ad-4e50-de57-341149c2034e"
   },
   "outputs": [
    {
     "name": "stdout",
     "output_type": "stream",
     "text": [
      "4\n",
      "7\n",
      "3\n"
     ]
    }
   ],
   "source": [
    "print(c)\n",
    "print(b)\n",
    "print(a)"
   ]
  },
  {
   "cell_type": "markdown",
   "metadata": {
    "id": "j1yQypqpAI6n"
   },
   "source": [
    "Алгоритм получения цифр n-значного числа\n",
    "\n",
    "Нетрудно понять, каким способом можно найти каждую цифру n-значного числа num:\n",
    "\n",
    "Последняя цифра: `(num % 10 ** 1) // 100`;\n",
    "\n",
    "Предпоследняя цифра: `(num % 10 ** 2) // 101`;\n",
    "\n",
    "Предпредпоследняя цифра: `(num % 10 ** 3) // 102`;\n",
    "\n",
    "…\n",
    "\n",
    "Вторая цифра: `(num %10 ** (n-1)) // 10 ** (n-2)`;\n",
    "\n",
    "Первая цифра: `(num % 10 ** n) //10 ** (n-1)`.\n"
   ]
  }
 ],
 "metadata": {
  "colab": {
   "authorship_tag": "ABX9TyMxlE5kY3kKRJvf/+HytVJm",
   "provenance": []
  },
  "kernelspec": {
   "display_name": "Python 3 (ipykernel)",
   "language": "python",
   "name": "python3"
  },
  "language_info": {
   "codemirror_mode": {
    "name": "ipython",
    "version": 3
   },
   "file_extension": ".py",
   "mimetype": "text/x-python",
   "name": "python",
   "nbconvert_exporter": "python",
   "pygments_lexer": "ipython3",
   "version": "3.9.13"
  }
 },
 "nbformat": 4,
 "nbformat_minor": 1
}
