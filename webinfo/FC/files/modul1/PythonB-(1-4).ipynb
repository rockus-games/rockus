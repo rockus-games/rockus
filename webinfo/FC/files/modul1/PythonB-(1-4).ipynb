{
 "cells": [
  {
   "cell_type": "markdown",
   "metadata": {
    "id": "c2S-tl3GOtqn"
   },
   "source": [
    "# **Занятие 4. Арифметика строк**\n"
   ]
  },
  {
   "cell_type": "markdown",
   "metadata": {
    "id": "q8nkTUtGOxbH"
   },
   "source": [
    "# 1. Строки в Python\n",
    "\n",
    "Строка состоит из последовательности символов:\n",
    "\n",
    "`'Текст в виде строки. Можно использовать цифры и другие символы, но не всякие.'`\n",
    "\n",
    "или так:\n",
    "\n",
    "`\"1 + 2 = 3 - my text.\"`\n",
    "\n",
    "Тип строки `str`. В языке Python нет отдельного символьного типа. Символ — это просто строка длины `1`.\n",
    "\n",
    "Можно преобразовать число в строку: `str(5)`\n"
   ]
  },
  {
   "cell_type": "code",
   "execution_count": 1,
   "metadata": {
    "id": "eKel8yMR44Mm"
   },
   "outputs": [
    {
     "data": {
      "text/plain": [
       "19"
      ]
     },
     "execution_count": 1,
     "metadata": {},
     "output_type": "execute_result"
    }
   ],
   "source": [
    "# Длина строки\n",
    "my_str = \"1 + 2 = 3 - my text\"\n",
    "len(my_str)"
   ]
  },
  {
   "cell_type": "markdown",
   "metadata": {
    "id": "ExNVJ9Mi46oG"
   },
   "source": [
    "Строки представляют собой цепочки символов. В программировании цепочка символов, которая используется в качестве данных, называется символьной последовательностью, или строковым значением, или просто строкой.\n",
    "Когда символьная последовательность появляется в рабочем коде программы, она называется строковым литералом. В программном коде Python строковые литералы должны быть заключены в знаки кавычек. Как отмечалось ранее, знаки кавычек просто отмечают, где строковые данные начинаются и заканчиваются.\n",
    "\n",
    "В Python можно заключать строковые литералы в одинарные кавычки (`'`) либо двойные кавычки (`\"`).\n",
    "\n",
    "Если требуется, чтобы строковый литерал содержал одинарную кавычку (*апостроф*), то можно заключить строковый литерал в двойные кавычки. Например:\n"
   ]
  },
  {
   "cell_type": "code",
   "execution_count": 2,
   "metadata": {
    "id": "5-xEEcU7493z"
   },
   "outputs": [
    {
     "name": "stdout",
     "output_type": "stream",
     "text": [
      "No, it’s not!\n"
     ]
    }
   ],
   "source": [
    "print(\"No, it's not!\")"
   ]
  },
  {
   "cell_type": "markdown",
   "metadata": {
    "id": "ytvPNlxS4_q8"
   },
   "source": [
    "Аналогичным образом строковый литерал, в котором внутри содержатся двойные кавычки, можно заключить в одинарные кавычки:"
   ]
  },
  {
   "cell_type": "code",
   "execution_count": 3,
   "metadata": {
    "colab": {
     "base_uri": "https://localhost:8080/"
    },
    "executionInfo": {
     "elapsed": 7,
     "status": "ok",
     "timestamp": 1692450348430,
     "user": {
      "displayName": "Vladimir Timokhin",
      "userId": "11887263454514708330"
     },
     "user_tz": -180
    },
    "id": "PKql_Pnm5Bu-",
    "outputId": "cea53722-1d44-4171-ed63-7fb9b177d7ae"
   },
   "outputs": [
    {
     "name": "stdout",
     "output_type": "stream",
     "text": [
      "Программа выдала \"No, it’s not!\".\n"
     ]
    }
   ],
   "source": [
    "print('Программа выдала \"No, it`s not!\".')"
   ]
  },
  {
   "cell_type": "markdown",
   "metadata": {
    "id": "lulAzdeP5Dt4"
   },
   "source": [
    "*Python* имеет тип данных `str`, который используется для хранения в оперативной памяти строковых данных.\n",
    "\n",
    "Ниже показано, как строковые данные присваиваются переменным:\n"
   ]
  },
  {
   "cell_type": "code",
   "execution_count": 4,
   "metadata": {
    "colab": {
     "base_uri": "https://localhost:8080/"
    },
    "executionInfo": {
     "elapsed": 265,
     "status": "ok",
     "timestamp": 1692450407286,
     "user": {
      "displayName": "Vladimir Timokhin",
      "userId": "11887263454514708330"
     },
     "user_tz": -180
    },
    "id": "T88sU5Fq5GXo",
    "outputId": "aba7bce7-b90d-4ee2-df25-1fe8b3cf602a"
   },
   "outputs": [
    {
     "name": "stdout",
     "output_type": "stream",
     "text": [
      "Иван Доберман\n"
     ]
    }
   ],
   "source": [
    "# Создать переменные, которые ссылаются на два строковых значения.\n",
    "first_name = \"Иван\"\n",
    "last_name = \"Доберман\"\n",
    "\n",
    "# Показать значения, на которые эти переменные ссылаются.\n",
    "print(first_name, last_name)"
   ]
  },
  {
   "cell_type": "markdown",
   "metadata": {
    "id": "w9oZ65Tx5IcJ"
   },
   "source": [
    "# 2. Арифметические операции над строками\n",
    "\n",
    "Если в *Python* выполнить следующий код:\n"
   ]
  },
  {
   "cell_type": "code",
   "execution_count": 5,
   "metadata": {
    "id": "iHo4hIbW5KSs"
   },
   "outputs": [
    {
     "name": "stdout",
     "output_type": "stream",
     "text": [
      "3\n"
     ]
    }
   ],
   "source": [
    "a = 1\n",
    "b = 2\n",
    "print(a + b)"
   ]
  },
  {
   "cell_type": "markdown",
   "metadata": {
    "id": "5G0YR-Di5MXc"
   },
   "source": [
    "то нетрудно догадаться, что результатом его выполнеия будет сумма значений двух переменных.\n",
    "Однако, когда оператор `+` используется с двумя строковыми литералами, он выполняет их **конкатенацию** (*или сцепление*). Это означает, что он добавляет один литерал к другому:\n"
   ]
  },
  {
   "cell_type": "code",
   "execution_count": 6,
   "metadata": {
    "colab": {
     "base_uri": "https://localhost:8080/"
    },
    "executionInfo": {
     "elapsed": 250,
     "status": "ok",
     "timestamp": 1692450456158,
     "user": {
      "displayName": "Vladimir Timokhin",
      "userId": "11887263454514708330"
     },
     "user_tz": -180
    },
    "id": "MUhu-CdA5QAK",
    "outputId": "3c2d76bd-679f-41d8-f023-83ad272139ea"
   },
   "outputs": [
    {
     "name": "stdout",
     "output_type": "stream",
     "text": [
      "Это один строковый литерал.\n"
     ]
    }
   ],
   "source": [
    "print(\"Это \" + \"один строковый литерал.\")"
   ]
  },
  {
   "cell_type": "markdown",
   "metadata": {
    "id": "fflMSMG75SC3"
   },
   "source": [
    "Конкатенация строковых значений может быть полезна с целью разбиения строкового литерала, в результате чего длинный вызов функции print может простираться на несколько строк текста:"
   ]
  },
  {
   "cell_type": "code",
   "execution_count": 7,
   "metadata": {
    "id": "AK8PX-Z85UKY"
   },
   "outputs": [
    {
     "name": "stdout",
     "output_type": "stream",
     "text": [
      "Введите объем продаж за каждый день и нажмите Enter.\n"
     ]
    }
   ],
   "source": [
    "print(\"Введите объем \" + \"продаж за каждый день и \" + \"нажмите Enter.\")"
   ]
  },
  {
   "cell_type": "markdown",
   "metadata": {
    "id": "0ujxY-Mv5V8P"
   },
   "source": [
    "Кроме того, в *Python* к строкам можно применять еще и операцию умножения `*`. В этом случае строка будет повторяться столько раз, сколько указывает множитель. Помяукаем?"
   ]
  },
  {
   "cell_type": "code",
   "execution_count": 8,
   "metadata": {
    "colab": {
     "base_uri": "https://localhost:8080/"
    },
    "executionInfo": {
     "elapsed": 296,
     "status": "ok",
     "timestamp": 1692450525314,
     "user": {
      "displayName": "Vladimir Timokhin",
      "userId": "11887263454514708330"
     },
     "user_tz": -180
    },
    "id": "zeSTdwFT5YrB",
    "outputId": "551b2f18-17f8-421a-8e48-732f85be1427"
   },
   "outputs": [
    {
     "name": "stdout",
     "output_type": "stream",
     "text": [
      "мяу-мяу-мяу-мяу-мяу-мяу!\n"
     ]
    }
   ],
   "source": [
    "print(\"мяу-\" * 5 + \"мяу!\")"
   ]
  },
  {
   "cell_type": "markdown",
   "metadata": {
    "id": "Mozpb3QE5ZkN"
   },
   "source": [
    "Первые 5 «мяу» будут выдаваться с последующим дефисом, а заключительное, шестое, – с восклицательным знаком.\n",
    "Кроме того, в качестве множителя можно использовать числовую переменную, что, как вы убедитесь далее, может быть очень удобным.\n"
   ]
  },
  {
   "cell_type": "markdown",
   "metadata": {
    "id": "dWMUMfG_7mLt"
   },
   "source": [
    "# 3. Форматирование в `print()`.\n",
    "\n",
    "Функция `print()` фактически формирует строку для вывода, в том числе подтягивая к ней значения переменных. Она может не только выводить информацию в консоль, но и формировать её представление при помощи функции `format()`, используемой совместно.\n",
    "\n",
    "Рассмотрим несколько примеров:"
   ]
  },
  {
   "cell_type": "code",
   "execution_count": 9,
   "metadata": {
    "colab": {
     "base_uri": "https://localhost:8080/"
    },
    "executionInfo": {
     "elapsed": 5,
     "status": "ok",
     "timestamp": 1692551814734,
     "user": {
      "displayName": "Vladimir Timokhin",
      "userId": "11887263454514708330"
     },
     "user_tz": -180
    },
    "id": "E_hqNY2I8o5N",
    "outputId": "1a66b598-5f86-4cf7-aec9-65606387a688"
   },
   "outputs": [
    {
     "name": "stdout",
     "output_type": "stream",
     "text": [
      "      26,666.67\n"
     ]
    }
   ],
   "source": [
    "print(format(80000 / 3, \"15,.2f\"))"
   ]
  },
  {
   "cell_type": "markdown",
   "metadata": {
    "id": "lspqeFQ98zeo"
   },
   "source": [
    "Здесь функция `print()` выводит строку - результат функции `format()`, которой передаётся 2 аргумента:\n",
    "- *что* печатать;\n",
    "- *как* печатать.\n",
    "\n",
    "*Первый аргумент* - число с плавающей очкой, результат деления `80 000` на `3`. *Второй аргумент* - это *строка*, в которой закодировано представление результата:\n",
    "\n",
    "- `15` - количество символов, отводимое для печати. То есть, вне зависимости от того, сколько требуется для отображения в консоли первого аргумента, функция `print()` будет использовать минимум 15 символов;\n",
    "- `,` - символ разделения разрядов (тысяч, миллионов и т.д.);\n",
    "- `.2f` - десятичная часть будет печататься с точностью 2 символа после запятой."
   ]
  },
  {
   "cell_type": "code",
   "execution_count": 10,
   "metadata": {
    "colab": {
     "base_uri": "https://localhost:8080/"
    },
    "executionInfo": {
     "elapsed": 571,
     "status": "ok",
     "timestamp": 1692552268614,
     "user": {
      "displayName": "Vladimir Timokhin",
      "userId": "11887263454514708330"
     },
     "user_tz": -180
    },
    "id": "Ca0hWn-l-XwI",
    "outputId": "ff1f3b03-0302-45bd-a0c0-6866a09eb23f"
   },
   "outputs": [
    {
     "name": "stdout",
     "output_type": "stream",
     "text": [
      "266.7%\n"
     ]
    }
   ],
   "source": [
    "print(format(8 / 3, \".1%\"))"
   ]
  },
  {
   "cell_type": "markdown",
   "metadata": {
    "id": "Re8OLpKA-hyW"
   },
   "source": [
    "Здесь запись `'.1%'` говорит от том, что выводимый результат - это проценты. *Python* автоматически умножит его на 100."
   ]
  },
  {
   "cell_type": "code",
   "execution_count": 11,
   "metadata": {
    "colab": {
     "base_uri": "https://localhost:8080/"
    },
    "executionInfo": {
     "elapsed": 384,
     "status": "ok",
     "timestamp": 1692552464557,
     "user": {
      "displayName": "Vladimir Timokhin",
      "userId": "11887263454514708330"
     },
     "user_tz": -180
    },
    "id": "WFpC-qW8-0vH",
    "outputId": "889bddf0-0e40-4a87-f7e7-d77782f6f1f7"
   },
   "outputs": [
    {
     "name": "stdout",
     "output_type": "stream",
     "text": [
      "    80,000\n"
     ]
    }
   ],
   "source": [
    "print(format(80000, \"10,d\"))"
   ]
  },
  {
   "cell_type": "markdown",
   "metadata": {
    "id": "O74jft21_Jba"
   },
   "source": [
    "В отличие от первого примера, здесь выводится целочисленное значение. Достаточно заменить `d` на `f`, и появится десятичная точка и нули после неё."
   ]
  },
  {
   "cell_type": "code",
   "execution_count": 12,
   "metadata": {
    "colab": {
     "base_uri": "https://localhost:8080/"
    },
    "executionInfo": {
     "elapsed": 314,
     "status": "ok",
     "timestamp": 1692552587640,
     "user": {
      "displayName": "Vladimir Timokhin",
      "userId": "11887263454514708330"
     },
     "user_tz": -180
    },
    "id": "g2rnsV2S_eos",
    "outputId": "0b2f12ff-7671-4ff9-8adb-e8543b0449ad"
   },
   "outputs": [
    {
     "name": "stdout",
     "output_type": "stream",
     "text": [
      "ABC   DEF\n"
     ]
    }
   ],
   "source": [
    "print(format(\"ABC\", \"5\"), \"DEF\")"
   ]
  },
  {
   "cell_type": "markdown",
   "metadata": {
    "id": "GR5s2Td-_vnX"
   },
   "source": [
    "А здесь выводятся две строки. На вывод первой отведено 5 символов."
   ]
  },
  {
   "cell_type": "code",
   "execution_count": 13,
   "metadata": {
    "colab": {
     "base_uri": "https://localhost:8080/"
    },
    "executionInfo": {
     "elapsed": 320,
     "status": "ok",
     "timestamp": 1692552845493,
     "user": {
      "displayName": "Vladimir Timokhin",
      "userId": "11887263454514708330"
     },
     "user_tz": -180
    },
    "id": "8A_2yQCu_2mD",
    "outputId": "a08ab783-45c1-4d19-f91d-4510d9c6eeea"
   },
   "outputs": [
    {
     "name": "stdout",
     "output_type": "stream",
     "text": [
      "Первая строка            10\n",
      "Вторая строка          1000\n",
      "Третья строка         10000\n",
      "Четвёртая строка     100_000\n"
     ]
    }
   ],
   "source": [
    "print(format(\"Первая строка\", \"20\"), format(10, \"6d\"))\n",
    "print(format(\"Вторая строка\", \"20\"), format(1000, \"6d\"))\n",
    "print(format(\"Третья строка\", \"20\"), format(10000, \"6d\"))\n",
    "print(format(\"Четвёртая строка\", \"20\"), format(100000, \"6_d\"))"
   ]
  },
  {
   "cell_type": "markdown",
   "metadata": {
    "id": "ne8UelbTAS49"
   },
   "source": [
    "Здесь каждая функция `print()` выводит два объекта - строку, с отведенными под неё 20 символами, и целое число-на 6 символах с разделителем разрядов в виде `_`. Отметим, что последнее число в свои 6 символов не вместилось, поэтому виден выступ.\n",
    "\n",
    "Функция`print()` работает не только с функцией `format()`, но и с методом `.format()`, который можно применять к печатаемым строкам. Это позволяет использовать внутри функции `print()` печатный шаблон, внутрь которого вставляются значения переменных."
   ]
  },
  {
   "cell_type": "code",
   "execution_count": 14,
   "metadata": {
    "colab": {
     "base_uri": "https://localhost:8080/"
    },
    "executionInfo": {
     "elapsed": 330,
     "status": "ok",
     "timestamp": 1692553132961,
     "user": {
      "displayName": "Vladimir Timokhin",
      "userId": "11887263454514708330"
     },
     "user_tz": -180
    },
    "id": "UDe882mzBbhP",
    "outputId": "d792aa33-cbeb-4173-838e-229eb72a36f6"
   },
   "outputs": [
    {
     "name": "stdout",
     "output_type": "stream",
     "text": [
      "Переменная a имеет значение: 10,\n",
      "а переменная b: Строка\n"
     ]
    }
   ],
   "source": [
    "a = 10\n",
    "b = \"Строка\"\n",
    "print(\"Переменная a имеет значение: {},\\nа переменная b: {}\".format(a, b))"
   ]
  },
  {
   "cell_type": "markdown",
   "metadata": {
    "id": "zO1f3jOCB31n"
   },
   "source": [
    "Фигурные скобки указывают на место, в которое вставляются значения переменных, указанных в качестве аргументов метода `.format()`. При этом, значения будут вставлены в том же порядке, в каком они переданы методу. Обратите внимание, `.format()` стоит сразу за закрывающей кавычкой. То есть метод вызывается объектом в кавычках:\n",
    "\n",
    "`\" ... \".format(...)`\n",
    "\n",
    "Если необходимо изменить порядок вывода значений, необязательно переставлять аргументы местами. Достаточно указать правильные индексы внутри шаблона. Напоминаем, в *Python* индексы начинаются с `0`.  "
   ]
  },
  {
   "cell_type": "code",
   "execution_count": 15,
   "metadata": {
    "colab": {
     "base_uri": "https://localhost:8080/"
    },
    "executionInfo": {
     "elapsed": 320,
     "status": "ok",
     "timestamp": 1692553440505,
     "user": {
      "displayName": "Vladimir Timokhin",
      "userId": "11887263454514708330"
     },
     "user_tz": -180
    },
    "id": "yanoIH5uC5i0",
    "outputId": "9d2fb84c-c771-4161-b296-9703dcb841b3"
   },
   "outputs": [
    {
     "name": "stdout",
     "output_type": "stream",
     "text": [
      "Переменная b имеет значение: Строка,\n",
      "а переменная a: 10\n"
     ]
    }
   ],
   "source": [
    "a = 10\n",
    "b = \"Строка\"\n",
    "print(\"Переменная b имеет значение: {1},\\nа переменная a: {0}\".format(a, b))"
   ]
  },
  {
   "cell_type": "markdown",
   "metadata": {
    "id": "UVK1qsaEDb1b"
   },
   "source": [
    "Другим способом, получить аналогичный результат, является использование символа `%` при вызове функции `print()`."
   ]
  },
  {
   "cell_type": "code",
   "execution_count": 16,
   "metadata": {
    "colab": {
     "base_uri": "https://localhost:8080/"
    },
    "executionInfo": {
     "elapsed": 320,
     "status": "ok",
     "timestamp": 1692553982155,
     "user": {
      "displayName": "Vladimir Timokhin",
      "userId": "11887263454514708330"
     },
     "user_tz": -180
    },
    "id": "aUiAh0vnDou1",
    "outputId": "439c50c0-cacd-479a-aac1-449b3577c72a"
   },
   "outputs": [
    {
     "name": "stdout",
     "output_type": "stream",
     "text": [
      "Переменная a имеет значение: 10.000000,\n",
      "а переменная b: Строка\n"
     ]
    }
   ],
   "source": [
    "a = 10\n",
    "b = \"Строка\"\n",
    "print(\"Переменная a имеет значение: %f,\\nа переменная b: %s\" % (a, b))"
   ]
  },
  {
   "cell_type": "markdown",
   "metadata": {
    "id": "rUUG0PJfEBmE"
   },
   "source": [
    "Здесь используются следующие шаблоны:\n",
    "\n",
    "- `%s` - если нужно вывести значение как строку;\n",
    "- `%f` - если нужно вывести значение как вещественное число.\n",
    "\n",
    "При выводе целых чисел можно использовать шаблон `%d`. При этом *Python* выполняет преобразование типов: переменную `a` моно вывести как строку с помощью `%s` - преобразование работает в эту сторону. А вот строковую переменную `b` вывести как число, используя `%d` или `%f` не удастся, и будет получена ошибка."
   ]
  }
 ],
 "metadata": {
  "colab": {
   "authorship_tag": "ABX9TyPcgdDZyICHUNSVHUaMrajO",
   "provenance": []
  },
  "kernelspec": {
   "display_name": "Python 3 (ipykernel)",
   "language": "python",
   "name": "python3"
  },
  "language_info": {
   "codemirror_mode": {
    "name": "ipython",
    "version": 3
   },
   "file_extension": ".py",
   "mimetype": "text/x-python",
   "name": "python",
   "nbconvert_exporter": "python",
   "pygments_lexer": "ipython3",
   "version": "3.9.13"
  }
 },
 "nbformat": 4,
 "nbformat_minor": 1
}
