{
 "cells": [
  {
   "cell_type": "markdown",
   "metadata": {
    "id": "lDh1W34LfSun"
   },
   "source": [
    "# **Занятие 5. Варианты цикла for**"
   ]
  },
  {
   "cell_type": "markdown",
   "metadata": {
    "id": "X5ave6PKfWo1"
   },
   "source": [
    "# 1. Разные виды `range()`\n",
    "\n",
    "Можно инициализировать объект `range()` с двумя аргументами, чтобы указать, с какого числа начинать итерироваться и каким закончить:\n"
   ]
  },
  {
   "cell_type": "code",
   "execution_count": 4,
   "metadata": {
    "colab": {
     "base_uri": "https://localhost:8080/"
    },
    "executionInfo": {
     "elapsed": 12,
     "status": "ok",
     "timestamp": 1692791832876,
     "user": {
      "displayName": "Владимир",
      "userId": "15865719753572167243"
     },
     "user_tz": -180
    },
    "id": "15jCqc2XfaQR",
    "outputId": "0b2a1496-ac6c-4686-98b3-32a0b37150fc"
   },
   "outputs": [
    {
     "name": "stdout",
     "output_type": "stream",
     "text": [
      "5\n",
      "6\n",
      "7\n"
     ]
    }
   ],
   "source": [
    "for i in range(5, 8):\n",
    "    print(i)"
   ]
  },
  {
   "cell_type": "markdown",
   "metadata": {
    "id": "UOG5NcpUfc2q"
   },
   "source": [
    "При этом первый аргумент войдет в значения целевой переменной, а второй – нет.\n",
    "Код\n"
   ]
  },
  {
   "cell_type": "code",
   "execution_count": 5,
   "metadata": {
    "colab": {
     "base_uri": "https://localhost:8080/"
    },
    "executionInfo": {
     "elapsed": 275,
     "status": "ok",
     "timestamp": 1692791835164,
     "user": {
      "displayName": "Владимир",
      "userId": "15865719753572167243"
     },
     "user_tz": -180
    },
    "id": "BvqEatKHfgoN",
    "outputId": "e5c02cd7-12dc-4c4b-9a28-57f714bd1df8"
   },
   "outputs": [
    {
     "name": "stdout",
     "output_type": "stream",
     "text": [
      "5\n",
      "6\n",
      "7\n"
     ]
    }
   ],
   "source": [
    "for i in range(5, 8):\n",
    "    print(i)"
   ]
  },
  {
   "cell_type": "markdown",
   "metadata": {
    "id": "HXwb77gqfjuf"
   },
   "source": [
    "выведет тот же результат, что и код"
   ]
  },
  {
   "cell_type": "code",
   "execution_count": 6,
   "metadata": {
    "colab": {
     "base_uri": "https://localhost:8080/"
    },
    "executionInfo": {
     "elapsed": 283,
     "status": "ok",
     "timestamp": 1692791838261,
     "user": {
      "displayName": "Владимир",
      "userId": "15865719753572167243"
     },
     "user_tz": -180
    },
    "id": "l1eX4870fmk5",
    "outputId": "c779ef58-945a-4100-84fe-2ae97665158e"
   },
   "outputs": [
    {
     "name": "stdout",
     "output_type": "stream",
     "text": [
      "5\n",
      "6\n",
      "7\n"
     ]
    }
   ],
   "source": [
    "for i in range(0, 3):\n",
    "    print(i + 5)"
   ]
  },
  {
   "cell_type": "markdown",
   "metadata": {
    "id": "TEztAx0AfpaO"
   },
   "source": [
    "# 2. Использование `range()` с шагом\n",
    "\n",
    "Если проинициализировать `range()` с тремя аргументами, последним из них будет шаг итерации:\n"
   ]
  },
  {
   "cell_type": "code",
   "execution_count": 7,
   "metadata": {
    "colab": {
     "base_uri": "https://localhost:8080/"
    },
    "executionInfo": {
     "elapsed": 281,
     "status": "ok",
     "timestamp": 1692791841325,
     "user": {
      "displayName": "Владимир",
      "userId": "15865719753572167243"
     },
     "user_tz": -180
    },
    "id": "Zv1sDAjvfs_U",
    "outputId": "88e7d017-fecf-423b-e54f-7864f2e4293b"
   },
   "outputs": [
    {
     "name": "stdout",
     "output_type": "stream",
     "text": [
      "1\n",
      "3\n",
      "5\n",
      "7\n",
      "9\n"
     ]
    }
   ],
   "source": [
    "for i in range(1, 10, 2):\n",
    "    print(i)"
   ]
  },
  {
   "cell_type": "markdown",
   "metadata": {
    "id": "kTdfM4Tofv46"
   },
   "source": [
    "Также есть возможность итерироваться по числам в порядке уменьшения, используя отрицательное значение шага:"
   ]
  },
  {
   "cell_type": "code",
   "execution_count": 8,
   "metadata": {
    "colab": {
     "base_uri": "https://localhost:8080/"
    },
    "executionInfo": {
     "elapsed": 325,
     "status": "ok",
     "timestamp": 1692791844463,
     "user": {
      "displayName": "Владимир",
      "userId": "15865719753572167243"
     },
     "user_tz": -180
    },
    "id": "xFyEQ2hffzOE",
    "outputId": "f3e530c0-c6f3-46a0-a81b-fc73f17223f9"
   },
   "outputs": [
    {
     "name": "stdout",
     "output_type": "stream",
     "text": [
      "10\n",
      "9\n",
      "8\n",
      "7\n",
      "6\n"
     ]
    }
   ],
   "source": [
    "for i in range(10, 5, -1):\n",
    "    print(i)"
   ]
  },
  {
   "cell_type": "markdown",
   "metadata": {
    "id": "3B-PJwfw3koT"
   },
   "source": [
    "Построим таблицу тригонометрических функций:\n"
   ]
  },
  {
   "cell_type": "code",
   "execution_count": 9,
   "metadata": {
    "colab": {
     "base_uri": "https://localhost:8080/"
    },
    "executionInfo": {
     "elapsed": 317,
     "status": "ok",
     "timestamp": 1692791848312,
     "user": {
      "displayName": "Владимир",
      "userId": "15865719753572167243"
     },
     "user_tz": -180
    },
    "id": "iqeBQb3N3vgb",
    "outputId": "c3105829-653a-4288-dc54-cb73e0647002"
   },
   "outputs": [
    {
     "name": "stdout",
     "output_type": "stream",
     "text": [
      "Угол\t   SIN\t\t   COS\n",
      "-----------------------------------\n",
      "  0 \t  0.00000 \t  1.00000\n",
      " 30 \t  0.50000 \t  0.86603\n",
      " 60 \t  0.86603 \t  0.50000\n",
      " 90 \t  1.00000 \t  0.00000\n",
      "120 \t  0.86603 \t -0.50000\n",
      "150 \t  0.50000 \t -0.86603\n",
      "180 \t  0.00000 \t -1.00000\n",
      "210 \t -0.50000 \t -0.86603\n",
      "240 \t -0.86603 \t -0.50000\n",
      "270 \t -1.00000 \t -0.00000\n",
      "300 \t -0.86603 \t  0.50000\n",
      "330 \t -0.50000 \t  0.86603\n",
      "360 \t -0.00000 \t  1.00000\n"
     ]
    }
   ],
   "source": [
    "import math\n",
    "\n",
    "print(\"Угол\\t   SIN\\t\\t   COS\")\n",
    "print(\"-\" * 35)\n",
    "for angle in range(0, 361, 30):\n",
    "    sin = math.sin(math.radians(angle))\n",
    "    cos = math.cos(math.radians(angle))\n",
    "    print(format(angle, \"3d\"), \"\\t\", format(sin, \"8.5f\"), \"\\t\", format(cos, \"8.5f\"))"
   ]
  },
  {
   "cell_type": "markdown",
   "metadata": {
    "id": "sjpPv2Dn7taT"
   },
   "source": [
    "Математические функции, такие как `sin` и `cos`, необходимо подгружать из модуля `math`. Здесь переменная цикла `angle` принимает значения угла в градусах, конвертируется в радианы функцией `mat.radians()` и используется для расчётов. То есть в цикле не только используется заданное число повторений, но и используется непосредственно значение переменной цикла."
   ]
  },
  {
   "cell_type": "markdown",
   "metadata": {
    "id": "GXKisVp6f1hu"
   },
   "source": [
    "# Пользовательский контроль итераций цикла\n",
    "\n",
    "Для циклов существует ещё несколько полезных команд:\n",
    "\n",
    "`pass` \t\t(определяет пустой блок, который ничего не делает);\n",
    "\n",
    "`break` \t\t(позволяет выйти из цикла досрочно);\n",
    "\n",
    "`continue` \t(перейти к следующей итерации цикла без выполнения оставшихся инструкций в блоке).\n",
    "\n",
    "**Оператор break:**\n",
    "\n",
    "Инструкция для прерывания цикла называется `break`. После её выполнения работа цикла прекращается (как будто не было выполнено условие цикла). Осмысленное использование конструкции `break` возможно, только если выполнено какое-то условие, то есть `break` должен вызываться только внутри `if` (находящегося внутри цикла). По возможности, следует обходиться без него.\n"
   ]
  },
  {
   "cell_type": "code",
   "execution_count": 10,
   "metadata": {
    "colab": {
     "base_uri": "https://localhost:8080/"
    },
    "executionInfo": {
     "elapsed": 263,
     "status": "ok",
     "timestamp": 1692791859380,
     "user": {
      "displayName": "Владимир",
      "userId": "15865719753572167243"
     },
     "user_tz": -180
    },
    "id": "9RePbUQpf6f9",
    "outputId": "0b9f8036-0617-4f23-a637-21c96be54ffc"
   },
   "outputs": [
    {
     "name": "stdout",
     "output_type": "stream",
     "text": [
      "P\n",
      "y\n",
      "t\n"
     ]
    }
   ],
   "source": [
    "for var in \"Python\":\n",
    "    if var == \"h\":\n",
    "        break\n",
    "    print(var)"
   ]
  },
  {
   "cell_type": "markdown",
   "metadata": {
    "id": "06wx30LHf84F"
   },
   "source": [
    "В данном случае оператор `break` ведет нас сразу к окончанию работы цикла. При этом получается, что выход совершается экстренный, т.к. мы не переберем все элементы эталона\n",
    "\n",
    "\n",
    "**Оператор continue:**\n",
    "\n",
    "Оператор `continue` позволяет начать следующий проход цикла, минуя оставшиеся инструкции:\n"
   ]
  },
  {
   "cell_type": "code",
   "execution_count": 11,
   "metadata": {
    "colab": {
     "base_uri": "https://localhost:8080/"
    },
    "executionInfo": {
     "elapsed": 348,
     "status": "ok",
     "timestamp": 1692791867373,
     "user": {
      "displayName": "Владимир",
      "userId": "15865719753572167243"
     },
     "user_tz": -180
    },
    "id": "0USSlpBqf_xB",
    "outputId": "4c911933-f0d5-4c51-b7bf-50e08fc943ba"
   },
   "outputs": [
    {
     "name": "stdout",
     "output_type": "stream",
     "text": [
      "P\n",
      "y\n",
      "t\n",
      "o\n",
      "n\n"
     ]
    }
   ],
   "source": [
    "for var in \"Python\":\n",
    "    if var == \"h\":\n",
    "        continue\n",
    "    print(var)"
   ]
  },
  {
   "cell_type": "markdown",
   "metadata": {
    "id": "JPmiZVSGgDsM"
   },
   "source": [
    "Мы перебираем последовательность символов и когда наша переменная хранит в себе символ `h`, мы используем оператор `continue`, чтобы пропустить дальнейшую инструкцию `print(var)`.\n",
    "\n",
    "\n",
    "**Оператор pass:**\n",
    "Оператор-заглушка, равноценный отсутствию операции. В ходе исполнения данного оператора ничего не происходит, поэтому он может использоваться в качестве заглушки в тех местах, где это синтаксически необходимо, например: в инструкциях, где тело является обязательным, таких как `def`, `except` и пр.\n",
    "Зачастую pass используется там, где код пока ещё не появился, но планируется. Кроме этого, иногда, его используют при отладке, разместив на строчке с ним точку остановки.\n",
    "\n",
    "\n"
   ]
  },
  {
   "cell_type": "code",
   "execution_count": 12,
   "metadata": {
    "executionInfo": {
     "elapsed": 5,
     "status": "ok",
     "timestamp": 1692791916901,
     "user": {
      "displayName": "Владимир",
      "userId": "15865719753572167243"
     },
     "user_tz": -180
    },
    "id": "_yQajmQ7QoaW"
   },
   "outputs": [],
   "source": [
    "for i in range(5):\n",
    "    pass"
   ]
  },
  {
   "cell_type": "markdown",
   "metadata": {
    "id": "whud8sGVQnA0"
   },
   "source": [
    "\n",
    "# 5. Пример: нахождение простых чисел. Малая теорема Ферма\n",
    "\n",
    "Вывести все простые числа, меньшие данного натурального числа. Натуральное число называется простым, если оно имеет только два различных делителя: единицу и само себя.\n",
    "\n",
    "Простейшая реализация включает перебор и подсчет для каждого числа его делителей:"
   ]
  },
  {
   "cell_type": "code",
   "execution_count": 13,
   "metadata": {
    "colab": {
     "base_uri": "https://localhost:8080/"
    },
    "executionInfo": {
     "elapsed": 5722,
     "status": "ok",
     "timestamp": 1692791952576,
     "user": {
      "displayName": "Владимир",
      "userId": "15865719753572167243"
     },
     "user_tz": -180
    },
    "id": "qX4_PplugIIS",
    "outputId": "db576403-6702-4e57-ed8a-767c045dd020"
   },
   "outputs": [
    {
     "name": "stdout",
     "output_type": "stream",
     "text": [
      "100\n",
      "2\n",
      "3\n",
      "5\n",
      "7\n",
      "11\n",
      "13\n",
      "17\n",
      "19\n",
      "23\n",
      "29\n",
      "31\n",
      "37\n",
      "41\n",
      "43\n",
      "47\n",
      "53\n",
      "59\n",
      "61\n",
      "67\n",
      "71\n",
      "73\n",
      "79\n",
      "83\n",
      "89\n",
      "97\n"
     ]
    }
   ],
   "source": [
    "n = int(input())\n",
    "\n",
    "# пробегаем все числа от 2 до n\n",
    "for i in range(2, n):\n",
    "    # в count будем хранить количество делителей\n",
    "    count = 0\n",
    "\n",
    "    # пребираем все числа от 2 до текущего\n",
    "    for j in range(2, i):\n",
    "        # ищем количество делителей\n",
    "        if i % j == 0:\n",
    "            count += 1\n",
    "    # если делителей нет, выводим число на экран - оно простое\n",
    "    if count == 0:\n",
    "        print(i)"
   ]
  },
  {
   "cell_type": "markdown",
   "metadata": {
    "id": "VpyKihAKgMIg"
   },
   "source": [
    "Оптимизируем код. Можно заметить, что если найден хотя бы один делитель, то число не простое, дальнейшую проверку можно прервать конструкцией `break`.\n",
    "\n",
    "Также, можно перебирать делители, не превосходящие корня из искомого: если у числа `n` имеется делитель `p`, то имеется делитель `q`, такой, что `p*q = n`."
   ]
  },
  {
   "cell_type": "code",
   "execution_count": null,
   "metadata": {
    "id": "vxBLek6igP_d"
   },
   "outputs": [],
   "source": [
    "n = int(input())\n",
    "# пробегаем все числа от 2 до n\n",
    "for i in range(2, n):\n",
    "    # в count будем хранить количество делителей\n",
    "    count = 0\n",
    "\n",
    "    # пребираем все числа от 2 до корня квадратного из i\n",
    "    for j in range(2, int(i**0.5) + 1):\n",
    "        # ищем количество делителей; если найден хотя бы один прерываем цикл\n",
    "        if i % j == 0:\n",
    "            count += 1\n",
    "            break\n",
    "    # если делителей нет, выводим число на экран - оно простое\n",
    "    if count == 0:\n",
    "        print(i)"
   ]
  },
  {
   "cell_type": "markdown",
   "metadata": {
    "id": "qK2xdj-dgTps"
   },
   "source": [
    "Получаем небольшую прибавку в скорости."
   ]
  }
 ],
 "metadata": {
  "colab": {
   "authorship_tag": "ABX9TyOpvdOtAikdMtM4ceWzpgn/",
   "provenance": []
  },
  "kernelspec": {
   "display_name": "Python 3 (ipykernel)",
   "language": "python",
   "name": "python3"
  },
  "language_info": {
   "codemirror_mode": {
    "name": "ipython",
    "version": 3
   },
   "file_extension": ".py",
   "mimetype": "text/x-python",
   "name": "python",
   "nbconvert_exporter": "python",
   "pygments_lexer": "ipython3",
   "version": "3.9.13"
  }
 },
 "nbformat": 4,
 "nbformat_minor": 1
}
