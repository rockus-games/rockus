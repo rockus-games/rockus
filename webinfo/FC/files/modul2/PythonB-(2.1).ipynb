{
 "cells": [
  {
   "cell_type": "markdown",
   "metadata": {
    "id": "aN1oKQouYck6"
   },
   "source": [
    "# **Занятие 1. Логический тип данных. Логические операции. Условный оператор.**"
   ]
  },
  {
   "cell_type": "markdown",
   "metadata": {
    "id": "GwHDam4lYfEJ"
   },
   "source": [
    "# 1. Значения, логические операторы\n",
    "\n",
    "**Управляющая структура** – это логическая схема, управляющая порядком, в котором исполняется набор инструкций. До сих пор мы использовали только самый простой тип управляющей структуры: последовательную структуру, т.е. структуру с последовательным исполнением.\n",
    "\n",
    "Последовательная структура представляет собой набор инструкций, которые исполняются в том порядке, в котором они появляются.\n",
    "\n",
    "Хотя в программировании последовательными структурами пользуются очень часто, они могут справиться не со всеми задачами, т.к. некоторые задачи просто не могут быть решены путем поочередного выполнения набора упорядоченных шагов.\n",
    "В управляющих структурах используются специальные переменные логического типа, или булевы переменные. Они названы в честь английского математика Джорджа Буля. В 1800-х годах Буль изобрел математическую систему, в которой абстрактные понятия истинности и ложности могли использоваться в вычислениях. Булевы переменны принимают одно из двух значений: *Истина* (`True`) или *Ложь* (`False`):\n"
   ]
  },
  {
   "cell_type": "code",
   "execution_count": null,
   "metadata": {
    "colab": {
     "base_uri": "https://localhost:8080/"
    },
    "executionInfo": {
     "elapsed": 259,
     "status": "ok",
     "timestamp": 1692771426758,
     "user": {
      "displayName": "Владимир",
      "userId": "15865719753572167243"
     },
     "user_tz": -180
    },
    "id": "4rUC1UA6YglB",
    "outputId": "41247065-4c7b-4d34-98de-6075273b2a01"
   },
   "outputs": [
    {
     "name": "stdout",
     "output_type": "stream",
     "text": [
      "<class 'bool'>\n"
     ]
    }
   ],
   "source": [
    "result = True\n",
    "print(type(result))"
   ]
  },
  {
   "cell_type": "markdown",
   "metadata": {
    "id": "DUuKYHA8-qP3"
   },
   "source": [
    "Как правило, булево выражение формируется **оператором сравнения** (*реляционным оператором*). Оператор сравнения определяет, существует ли между двумя значениями определенное отношение. Например, оператор больше `>` определяет, является ли одно значение больше другого. Рассмотрим подробнее логические операторы в *Python*."
   ]
  },
  {
   "cell_type": "markdown",
   "metadata": {
    "id": "efPCdw3GYiPX"
   },
   "source": [
    "**Оператор \"равно\":**"
   ]
  },
  {
   "cell_type": "code",
   "execution_count": 1,
   "metadata": {
    "colab": {
     "base_uri": "https://localhost:8080/"
    },
    "executionInfo": {
     "elapsed": 290,
     "status": "ok",
     "timestamp": 1692771429481,
     "user": {
      "displayName": "Владимир",
      "userId": "15865719753572167243"
     },
     "user_tz": -180
    },
    "id": "jEsw3u3bYj-2",
    "outputId": "dce0773c-6122-4d43-a9bd-86f54802440e"
   },
   "outputs": [
    {
     "data": {
      "text/plain": [
       "True"
      ]
     },
     "execution_count": 1,
     "metadata": {},
     "output_type": "execute_result"
    }
   ],
   "source": [
    "13 == 13"
   ]
  },
  {
   "cell_type": "markdown",
   "metadata": {
    "id": "0O1Pb_aSYlMv"
   },
   "source": [
    "**Оператор \"не равно\":**"
   ]
  },
  {
   "cell_type": "code",
   "execution_count": null,
   "metadata": {
    "colab": {
     "base_uri": "https://localhost:8080/"
    },
    "executionInfo": {
     "elapsed": 286,
     "status": "ok",
     "timestamp": 1692771431780,
     "user": {
      "displayName": "Владимир",
      "userId": "15865719753572167243"
     },
     "user_tz": -180
    },
    "id": "90j_fu3GYm3a",
    "outputId": "8b6792a8-3a7a-4d6d-da3d-9e8d784875b5"
   },
   "outputs": [
    {
     "data": {
      "text/plain": [
       "True"
      ]
     },
     "execution_count": 6,
     "metadata": {},
     "output_type": "execute_result"
    }
   ],
   "source": [
    "1 != 2"
   ]
  },
  {
   "cell_type": "markdown",
   "metadata": {
    "id": "RTlF8MPbYo7d"
   },
   "source": [
    "**Операторы сравнения:**"
   ]
  },
  {
   "cell_type": "code",
   "execution_count": null,
   "metadata": {
    "colab": {
     "base_uri": "https://localhost:8080/"
    },
    "executionInfo": {
     "elapsed": 5,
     "status": "ok",
     "timestamp": 1692771433671,
     "user": {
      "displayName": "Владимир",
      "userId": "15865719753572167243"
     },
     "user_tz": -180
    },
    "id": "GIvLsla3YqJM",
    "outputId": "9cc8f56f-0b5c-40d2-c865-2922e9388950"
   },
   "outputs": [
    {
     "name": "stdout",
     "output_type": "stream",
     "text": [
      "False\n",
      "True\n",
      "True\n",
      "False\n",
      "True\n"
     ]
    }
   ],
   "source": [
    "print(3 > 4)\n",
    "print(3 <= 3)\n",
    "print(6 >= 6)\n",
    "print(6 < 5)\n",
    "\n",
    "x = 2\n",
    "print(1 < x < 3)"
   ]
  },
  {
   "cell_type": "markdown",
   "metadata": {
    "id": "YQYttcmcYrhp"
   },
   "source": [
    "**Конвертация типов:**\n",
    "\n",
    "Значения других типов могут быть проинтерпретированы с точки зрения *истинности* или *ложности*, то есть *сконвертированы* в логический тип функцией `bool()`:"
   ]
  },
  {
   "cell_type": "code",
   "execution_count": null,
   "metadata": {
    "colab": {
     "base_uri": "https://localhost:8080/"
    },
    "executionInfo": {
     "elapsed": 282,
     "status": "ok",
     "timestamp": 1692771459137,
     "user": {
      "displayName": "Владимир",
      "userId": "15865719753572167243"
     },
     "user_tz": -180
    },
    "id": "uuSDfSdTYuIj",
    "outputId": "88ad1dc3-7ac8-4b9e-ba7f-6b52cb330da2"
   },
   "outputs": [
    {
     "name": "stdout",
     "output_type": "stream",
     "text": [
      "True\n",
      "False\n"
     ]
    }
   ],
   "source": [
    "print(bool(12))\n",
    "print(bool(0))"
   ]
  },
  {
   "cell_type": "markdown",
   "metadata": {
    "id": "S7Z4gMOHYurJ"
   },
   "source": [
    "# 2. Логические выражения\n",
    "\n",
    "**Логические выражения** — это выражения, которые содержат в себе один или больше логических операторов. Они позволяют устанавливать *истинность* и *ложность* сложных условий, каждое из которых само по себе является *истинным* или *ложным*.\n",
    "\n",
    "**Логическое \"и\":**\n"
   ]
  },
  {
   "cell_type": "code",
   "execution_count": null,
   "metadata": {
    "colab": {
     "base_uri": "https://localhost:8080/"
    },
    "executionInfo": {
     "elapsed": 274,
     "status": "ok",
     "timestamp": 1692771462323,
     "user": {
      "displayName": "Владимир",
      "userId": "15865719753572167243"
     },
     "user_tz": -180
    },
    "id": "n0wy64eDYwjb",
    "outputId": "40b90e05-727d-4cca-8d1f-dee988f05546"
   },
   "outputs": [
    {
     "name": "stdout",
     "output_type": "stream",
     "text": [
      "False\n"
     ]
    }
   ],
   "source": [
    "x, y = True, False\n",
    "print(x and y)"
   ]
  },
  {
   "cell_type": "code",
   "execution_count": null,
   "metadata": {
    "colab": {
     "base_uri": "https://localhost:8080/"
    },
    "executionInfo": {
     "elapsed": 268,
     "status": "ok",
     "timestamp": 1692771464687,
     "user": {
      "displayName": "Владимир",
      "userId": "15865719753572167243"
     },
     "user_tz": -180
    },
    "id": "_NRRJ1b-_4iV",
    "outputId": "3956850b-c643-44d8-cc40-711c6f7d1f99"
   },
   "outputs": [
    {
     "name": "stdout",
     "output_type": "stream",
     "text": [
      "False\n",
      "False\n",
      "False\n",
      "True\n"
     ]
    }
   ],
   "source": [
    "print(False and False )\n",
    "print(True and False)\n",
    "print(False and True)\n",
    "print(True and True)"
   ]
  },
  {
   "cell_type": "markdown",
   "metadata": {
    "id": "6SDtmnDOYyGx"
   },
   "source": [
    "**Логическое \"или\":**"
   ]
  },
  {
   "cell_type": "code",
   "execution_count": null,
   "metadata": {
    "colab": {
     "base_uri": "https://localhost:8080/"
    },
    "executionInfo": {
     "elapsed": 251,
     "status": "ok",
     "timestamp": 1692771466988,
     "user": {
      "displayName": "Владимир",
      "userId": "15865719753572167243"
     },
     "user_tz": -180
    },
    "id": "MW4IeYPIYzb7",
    "outputId": "68521867-0c4b-4db5-c08f-fbd11545e6c5"
   },
   "outputs": [
    {
     "name": "stdout",
     "output_type": "stream",
     "text": [
      "True\n"
     ]
    }
   ],
   "source": [
    "x, y = True, False\n",
    "print(x or y)"
   ]
  },
  {
   "cell_type": "code",
   "execution_count": null,
   "metadata": {
    "colab": {
     "base_uri": "https://localhost:8080/"
    },
    "executionInfo": {
     "elapsed": 6,
     "status": "ok",
     "timestamp": 1692771469010,
     "user": {
      "displayName": "Владимир",
      "userId": "15865719753572167243"
     },
     "user_tz": -180
    },
    "id": "PFc0nzgIAIdF",
    "outputId": "c8ee457b-772b-4b41-d4ea-f59afccfc6c7"
   },
   "outputs": [
    {
     "name": "stdout",
     "output_type": "stream",
     "text": [
      "False\n",
      "True\n",
      "True\n",
      "True\n"
     ]
    }
   ],
   "source": [
    "print(False or False)\n",
    "print(True or False)\n",
    "print(False or True)\n",
    "print(True or True)"
   ]
  },
  {
   "cell_type": "markdown",
   "metadata": {
    "id": "5fMAfCm3erDm"
   },
   "source": [
    "**Логическое отрицание:**"
   ]
  },
  {
   "cell_type": "code",
   "execution_count": null,
   "metadata": {
    "colab": {
     "base_uri": "https://localhost:8080/"
    },
    "executionInfo": {
     "elapsed": 252,
     "status": "ok",
     "timestamp": 1692771471202,
     "user": {
      "displayName": "Владимир",
      "userId": "15865719753572167243"
     },
     "user_tz": -180
    },
    "id": "kVGqo9z1Y2S_",
    "outputId": "e83c64d5-a286-4a0a-b5c0-14e846bdc0fd"
   },
   "outputs": [
    {
     "name": "stdout",
     "output_type": "stream",
     "text": [
      "True\n"
     ]
    }
   ],
   "source": [
    "y = False\n",
    "print(not y)"
   ]
  },
  {
   "cell_type": "markdown",
   "metadata": {
    "id": "yOou0cB2Y3v3"
   },
   "source": [
    "**Составные логические выражения:**"
   ]
  },
  {
   "cell_type": "code",
   "execution_count": null,
   "metadata": {
    "colab": {
     "base_uri": "https://localhost:8080/"
    },
    "executionInfo": {
     "elapsed": 241,
     "status": "ok",
     "timestamp": 1692771473642,
     "user": {
      "displayName": "Владимир",
      "userId": "15865719753572167243"
     },
     "user_tz": -180
    },
    "id": "MQluBipyY5bK",
    "outputId": "1a91f606-c8a4-4216-fe4a-6ab22044367d"
   },
   "outputs": [
    {
     "name": "stdout",
     "output_type": "stream",
     "text": [
      "True\n"
     ]
    }
   ],
   "source": [
    "x, y, z = True, False, True\n",
    "\n",
    "result = x and y or z\n",
    "print(result)"
   ]
  },
  {
   "cell_type": "markdown",
   "metadata": {
    "id": "8nj_OMIEY73T"
   },
   "source": [
    "Следующая особенность *Python* — это то, что логические выражения \"*ленивые*\". Давайте подробно разберем это на примере."
   ]
  },
  {
   "cell_type": "code",
   "execution_count": null,
   "metadata": {
    "colab": {
     "base_uri": "https://localhost:8080/"
    },
    "executionInfo": {
     "elapsed": 234,
     "status": "ok",
     "timestamp": 1692771476033,
     "user": {
      "displayName": "Владимир",
      "userId": "15865719753572167243"
     },
     "user_tz": -180
    },
    "id": "YpiV7KaKY9U4",
    "outputId": "5bca2178-ce05-4d8d-bb24-b4c6e47c49c4"
   },
   "outputs": [
    {
     "name": "stdout",
     "output_type": "stream",
     "text": [
      "12\n"
     ]
    }
   ],
   "source": [
    "x = 12\n",
    "y = False\n",
    "\n",
    "print(x or y)"
   ]
  },
  {
   "cell_type": "markdown",
   "metadata": {
    "id": "RVLRoK9dY-vC"
   },
   "source": [
    "В результате работы этого выражения мы видим, что на экране не `True`, как мы могли бы ожидать, а число `12`.\n",
    "*Python* начинает интерпретировать логическое выражение, видит, что `x` является истинным, и понимает, что ему не нужно выполнять оставшуюся часть логического выражения. Поэтому он `y` уже не будет проверять, `x` — это *истина*, стоит оператор `or` - логическое сложение, значит нас устраивает то, что мы можем остановиться в этот момент и результатом выполнения выражения будет как раз значение `x`.\n"
   ]
  },
  {
   "cell_type": "code",
   "execution_count": null,
   "metadata": {
    "colab": {
     "base_uri": "https://localhost:8080/"
    },
    "executionInfo": {
     "elapsed": 255,
     "status": "ok",
     "timestamp": 1692771478429,
     "user": {
      "displayName": "Владимир",
      "userId": "15865719753572167243"
     },
     "user_tz": -180
    },
    "id": "aXb9jtluZBQB",
    "outputId": "60f236b3-cfde-4eb7-c883-e7cf0b8a662c"
   },
   "outputs": [
    {
     "name": "stdout",
     "output_type": "stream",
     "text": [
      "boom\n"
     ]
    }
   ],
   "source": [
    "x = 12\n",
    "z = \"boom\"\n",
    "\n",
    "print(x and z)"
   ]
  },
  {
   "cell_type": "markdown",
   "metadata": {
    "id": "Dg3sdvyKZCoB"
   },
   "source": [
    "В результате работы логического выражения `x` and `z` мы получаем как результат работы логического выражения строку `boom`.\n",
    "*Python* выполняет логическое выражение, до тех пор, пока оно имеет смысл, и результатом является последнее значение\n",
    "\n",
    "\n",
    "# 3. Применение на практике\n",
    "\n",
    "# **Задача:**\n",
    "определить високосный год или нет?\n",
    "\n",
    "Год является високосным, если он кратен `4`, но при этом не кратен `100`, либо кратен `400`.\n"
   ]
  },
  {
   "cell_type": "code",
   "execution_count": null,
   "metadata": {
    "colab": {
     "base_uri": "https://localhost:8080/"
    },
    "executionInfo": {
     "elapsed": 252,
     "status": "ok",
     "timestamp": 1692771480905,
     "user": {
      "displayName": "Владимир",
      "userId": "15865719753572167243"
     },
     "user_tz": -180
    },
    "id": "U_vtwj9tZEuv",
    "outputId": "eac108b3-cc7c-4158-8dd7-67517e9c7c00"
   },
   "outputs": [
    {
     "name": "stdout",
     "output_type": "stream",
     "text": [
      "False\n"
     ]
    }
   ],
   "source": [
    "year = 2023\n",
    "is_leap = year % 4 == 0 and (year % 100 != 0 or year % 400 == 0)\n",
    "print(is_leap)"
   ]
  },
  {
   "cell_type": "markdown",
   "metadata": {
    "id": "4rhhrURSZGYi"
   },
   "source": [
    "Мы объявляем переменную, которая содержит в себе год и далее составляем сложное логическое выражение, включающее в себя несколько логических операторов. При этом задаем порядок выполнения операторов скобками.\n",
    "Если год не кратен четырем, то есть первое выражение не является истинным, то логическое выражение не будет выполняться дальше, *Python* в этот момент остановится. Если же оно истинное, то выполнение логического выражения продолжится\n",
    "\n",
    "Эту задачу мы можем решить ещё короче, всего в две строчки, используя модуль стандартной библиотеки `calendar`.\n",
    "Есть выражение про *Python* — «*батарейки включены*», то есть это язык, который предоставляет очень много возможностей в своей стандартной библиотеке. Соответственно, есть модуль `calendar`, который мы можем импортировать. Внутри модуля `calendar` есть функция `isleap`, которая делает как раз то, что нам нужно.\n"
   ]
  },
  {
   "cell_type": "code",
   "execution_count": null,
   "metadata": {
    "colab": {
     "base_uri": "https://localhost:8080/"
    },
    "executionInfo": {
     "elapsed": 253,
     "status": "ok",
     "timestamp": 1692771483382,
     "user": {
      "displayName": "Владимир",
      "userId": "15865719753572167243"
     },
     "user_tz": -180
    },
    "id": "qtadOs7gZIM8",
    "outputId": "7b6122f4-ed48-4613-ec75-eafbbc07abb9"
   },
   "outputs": [
    {
     "name": "stdout",
     "output_type": "stream",
     "text": [
      "False\n"
     ]
    }
   ],
   "source": [
    "import calendar\n",
    "\n",
    "print(calendar.isleap(2023))"
   ]
  },
  {
   "cell_type": "markdown",
   "metadata": {
    "id": "0w_gD0fHZKQn"
   },
   "source": [
    "# 4. Неполный условный оператор\n",
    "\n",
    "В *Python* для написания структуры принятия решения с единственным вариантом используется инструкция `if`. Вот общий формат инструкции `if`:\n",
    "\n",
    "\n",
    "`if условие:`\n",
    "\n",
    ">`инструкция`\n",
    "\n",
    "> `инструкция`\n",
    "\n",
    "Для простоты мы будем называть первую строку условным выражением, или выражением `if`. Условное выражение начинается со слова `if`, за которым следует условие, т.е. *логическое выражение*, которое будет вычислено, как *истина* либо *ложь*. После условия стоит двоеточие `:`. Со следующей строки начинается блок инструкций. Блок – это просто набор инструкций, которые составляют одну группу. Обратите внимание, что в приведенном выше общем формате все инструкции блока выделены отступом. Такое оформление кода ***обязательно***, потому что интерпретатор *Python* использует отступы для определения начала и конца блока.\n",
    "\n",
    "Во время исполнения инструкции `if` осуществляется проверка условия. Если условие истинное, то исполняются инструкции, которые появляются в блоке после условного выражения. Если условие ложное, то инструкции в этом блоке пропускаются.\n",
    "\n",
    "Этот условный оператор называется неполным потому, что он не определяет инструкций, которые нужно выполнить, если условие окажется ложным, а просто пропускает исполнение «*истинного*» блока.\n",
    "\n",
    "Вот еще пример использования длогических операторов:"
   ]
  },
  {
   "cell_type": "code",
   "execution_count": null,
   "metadata": {
    "colab": {
     "base_uri": "https://localhost:8080/"
    },
    "executionInfo": {
     "elapsed": 298,
     "status": "ok",
     "timestamp": 1692771487129,
     "user": {
      "displayName": "Владимир",
      "userId": "15865719753572167243"
     },
     "user_tz": -180
    },
    "id": "llYqEIoLZOjD",
    "outputId": "7641e43a-f2b7-4cd8-8528-4c0fe42969c5"
   },
   "outputs": [
    {
     "name": "stdout",
     "output_type": "stream",
     "text": [
      "Условие выполнено!\n"
     ]
    }
   ],
   "source": [
    "company = \"my.com\"\n",
    "\n",
    "if \"my\" in company:\n",
    "    print(\"Условие выполнено!\")"
   ]
  },
  {
   "cell_type": "markdown",
   "metadata": {
    "id": "uJAIQJXuZQ6X"
   },
   "source": [
    "Команда `in` позволяет проверить, что одна строка находится внутри другой. В таком случае обычно говорят, что одна строка является подстрокой для другой."
   ]
  },
  {
   "cell_type": "code",
   "execution_count": null,
   "metadata": {
    "colab": {
     "base_uri": "https://localhost:8080/"
    },
    "executionInfo": {
     "elapsed": 255,
     "status": "ok",
     "timestamp": 1692771489736,
     "user": {
      "displayName": "Владимир",
      "userId": "15865719753572167243"
     },
     "user_tz": -180
    },
    "id": "S7RWLDPQZUDA",
    "outputId": "f57b2e3d-e88f-4b2f-a3e1-24968983b088"
   },
   "outputs": [
    {
     "name": "stdout",
     "output_type": "stream",
     "text": [
      "Условие выполнено!\n"
     ]
    }
   ],
   "source": [
    "company = \"example.net\"\n",
    "\n",
    "if \"my\" in company or company.endswith(\".net\"):\n",
    "    print(\"Условие выполнено!\")"
   ]
  },
  {
   "cell_type": "markdown",
   "metadata": {
    "id": "AYYl6hR1WWT2"
   },
   "source": [
    "# Практическое применение:\n",
    "\n",
    "Напишем программу, которая на основе выведения средней оценки за 3 контрольных поздравит ученика, если его результат - \"отлично\":\n",
    "\n",
    "**Алгоритм:**\n",
    "\n",
    "Получить оценку за первую контрольную работу.\n",
    "\n",
    "Получить оценку за вторую контрольную работу.\n",
    "\n",
    "Получить оценку за третью контрольную работу.\n",
    "\n",
    "Рассчитать средний балл.\n",
    "\n",
    "Показать средний балл.\n",
    "\n",
    "Если средний балл равен 5:\n",
    "\n",
    "Поздравить пользователя\n"
   ]
  },
  {
   "cell_type": "code",
   "execution_count": 1,
   "metadata": {
    "colab": {
     "base_uri": "https://localhost:8080/"
    },
    "executionInfo": {
     "elapsed": 6016,
     "status": "ok",
     "timestamp": 1692776955384,
     "user": {
      "displayName": "Владимир",
      "userId": "15865719753572167243"
     },
     "user_tz": -180
    },
    "id": "WRWMfJr-W4kZ",
    "outputId": "1a0370cb-ff24-4496-b479-05d2324066a0"
   },
   "outputs": [
    {
     "name": "stdout",
     "output_type": "stream",
     "text": [
      "ведите оценку 1: 5\n",
      "Введите оценку 2: 5\n",
      "Введите оценку 3: 5\n",
      "Средний балл составляет: 5.0\n",
      "Поздравляем!\n",
      "Ты отличник!\n"
     ]
    }
   ],
   "source": [
    "# Именованная константа HIGH_SCORE содержит значение, которое\n",
    "# считается высшим баллом\n",
    "HIGH_SCORE = 5\n",
    "\n",
    "# Получить три оценки за контрольные работы\n",
    "testl = int(input(\"Введите оценку 1: \"))\n",
    "test2 = int(input(\"Введите оценку 2: \"))\n",
    "test3 = int(input(\"Введите оценку 3: \"))\n",
    "\n",
    "# Рассчитать средний балл.\n",
    "average = (testl + test2 + test3) / 3\n",
    "\n",
    "# Напечатать средний балл.\n",
    "print(\"Средний балл составляет:\", average)\n",
    "\n",
    "# Если средний балл - высший, то\n",
    "# поздравить пользователя.\n",
    "if average == HIGH_SCORE:\n",
    "    print(\"Поздравляем!\")\n",
    "    print(\"Ты отличник!\")"
   ]
  },
  {
   "cell_type": "code",
   "execution_count": null,
   "metadata": {},
   "outputs": [],
   "source": []
  }
 ],
 "metadata": {
  "colab": {
   "authorship_tag": "ABX9TyOBHm2m3+7RccVPejMy8lKx",
   "provenance": []
  },
  "kernelspec": {
   "display_name": "Python 3 (ipykernel)",
   "language": "python",
   "name": "python3"
  },
  "language_info": {
   "codemirror_mode": {
    "name": "ipython",
    "version": 3
   },
   "file_extension": ".py",
   "mimetype": "text/x-python",
   "name": "python",
   "nbconvert_exporter": "python",
   "pygments_lexer": "ipython3",
   "version": "3.10.10"
  }
 },
 "nbformat": 4,
 "nbformat_minor": 1
}
